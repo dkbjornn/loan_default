{
 "cells": [
  {
   "cell_type": "markdown",
   "id": "17c1bd10-894f-41d1-bf27-d7e1b239a4c0",
   "metadata": {},
   "source": [
    "# Loan Application Exploratory Data Analysis"
   ]
  },
  {
   "cell_type": "markdown",
   "id": "332723b9-7d31-4b43-a8e6-d603b571f4de",
   "metadata": {},
   "source": [
    "This notebook will explore the [loan application data set](https://www.kaggle.com/datasets/mishra5001/credit-card) found on Kaggle. I'll reference what the columns mean when writing interpretations. There are a lot of columns, though, so it doesn't make sense to translate them all here. A data dictionary can be found with the data set on Kaggle. \n",
    "\n",
    "I'll be doing some general data cleaning here, but I'll leave the specific cleaning that might depend on the type of model for each of those notebooks. "
   ]
  },
  {
   "cell_type": "code",
   "execution_count": 1,
   "id": "05acdb7e-7aea-47a8-ba58-981a95a72f0d",
   "metadata": {},
   "outputs": [],
   "source": [
    "import pandas as pd\n",
    "# janitor is a lesser known package but is extremely useful when wanting to \n",
    "# easily chain methods for clean data transformation\n",
    "import janitor\n",
    "# plotly is great for EDA because you can manipulate the plot to get a better\n",
    "# view of things\n",
    "import plotly.express as px \n",
    "\n",
    "app = pd.read_csv('../data/application_data.csv')"
   ]
  },
  {
   "cell_type": "code",
   "execution_count": 2,
   "id": "b78c8a67-2499-4778-b24f-e882c4c0a8af",
   "metadata": {},
   "outputs": [
    {
     "data": {
      "text/html": [
       "<div>\n",
       "<style scoped>\n",
       "    .dataframe tbody tr th:only-of-type {\n",
       "        vertical-align: middle;\n",
       "    }\n",
       "\n",
       "    .dataframe tbody tr th {\n",
       "        vertical-align: top;\n",
       "    }\n",
       "\n",
       "    .dataframe thead th {\n",
       "        text-align: right;\n",
       "    }\n",
       "</style>\n",
       "<table border=\"1\" class=\"dataframe\">\n",
       "  <thead>\n",
       "    <tr style=\"text-align: right;\">\n",
       "      <th></th>\n",
       "      <th>SK_ID_CURR</th>\n",
       "      <th>TARGET</th>\n",
       "      <th>NAME_CONTRACT_TYPE</th>\n",
       "      <th>CODE_GENDER</th>\n",
       "      <th>FLAG_OWN_CAR</th>\n",
       "      <th>FLAG_OWN_REALTY</th>\n",
       "      <th>CNT_CHILDREN</th>\n",
       "      <th>AMT_INCOME_TOTAL</th>\n",
       "      <th>AMT_CREDIT</th>\n",
       "      <th>AMT_ANNUITY</th>\n",
       "      <th>...</th>\n",
       "      <th>FLAG_DOCUMENT_18</th>\n",
       "      <th>FLAG_DOCUMENT_19</th>\n",
       "      <th>FLAG_DOCUMENT_20</th>\n",
       "      <th>FLAG_DOCUMENT_21</th>\n",
       "      <th>AMT_REQ_CREDIT_BUREAU_HOUR</th>\n",
       "      <th>AMT_REQ_CREDIT_BUREAU_DAY</th>\n",
       "      <th>AMT_REQ_CREDIT_BUREAU_WEEK</th>\n",
       "      <th>AMT_REQ_CREDIT_BUREAU_MON</th>\n",
       "      <th>AMT_REQ_CREDIT_BUREAU_QRT</th>\n",
       "      <th>AMT_REQ_CREDIT_BUREAU_YEAR</th>\n",
       "    </tr>\n",
       "  </thead>\n",
       "  <tbody>\n",
       "    <tr>\n",
       "      <th>0</th>\n",
       "      <td>100002</td>\n",
       "      <td>1</td>\n",
       "      <td>Cash loans</td>\n",
       "      <td>M</td>\n",
       "      <td>N</td>\n",
       "      <td>Y</td>\n",
       "      <td>0</td>\n",
       "      <td>202500.0</td>\n",
       "      <td>406597.5</td>\n",
       "      <td>24700.5</td>\n",
       "      <td>...</td>\n",
       "      <td>0</td>\n",
       "      <td>0</td>\n",
       "      <td>0</td>\n",
       "      <td>0</td>\n",
       "      <td>0.0</td>\n",
       "      <td>0.0</td>\n",
       "      <td>0.0</td>\n",
       "      <td>0.0</td>\n",
       "      <td>0.0</td>\n",
       "      <td>1.0</td>\n",
       "    </tr>\n",
       "    <tr>\n",
       "      <th>1</th>\n",
       "      <td>100003</td>\n",
       "      <td>0</td>\n",
       "      <td>Cash loans</td>\n",
       "      <td>F</td>\n",
       "      <td>N</td>\n",
       "      <td>N</td>\n",
       "      <td>0</td>\n",
       "      <td>270000.0</td>\n",
       "      <td>1293502.5</td>\n",
       "      <td>35698.5</td>\n",
       "      <td>...</td>\n",
       "      <td>0</td>\n",
       "      <td>0</td>\n",
       "      <td>0</td>\n",
       "      <td>0</td>\n",
       "      <td>0.0</td>\n",
       "      <td>0.0</td>\n",
       "      <td>0.0</td>\n",
       "      <td>0.0</td>\n",
       "      <td>0.0</td>\n",
       "      <td>0.0</td>\n",
       "    </tr>\n",
       "    <tr>\n",
       "      <th>2</th>\n",
       "      <td>100004</td>\n",
       "      <td>0</td>\n",
       "      <td>Revolving loans</td>\n",
       "      <td>M</td>\n",
       "      <td>Y</td>\n",
       "      <td>Y</td>\n",
       "      <td>0</td>\n",
       "      <td>67500.0</td>\n",
       "      <td>135000.0</td>\n",
       "      <td>6750.0</td>\n",
       "      <td>...</td>\n",
       "      <td>0</td>\n",
       "      <td>0</td>\n",
       "      <td>0</td>\n",
       "      <td>0</td>\n",
       "      <td>0.0</td>\n",
       "      <td>0.0</td>\n",
       "      <td>0.0</td>\n",
       "      <td>0.0</td>\n",
       "      <td>0.0</td>\n",
       "      <td>0.0</td>\n",
       "    </tr>\n",
       "    <tr>\n",
       "      <th>3</th>\n",
       "      <td>100006</td>\n",
       "      <td>0</td>\n",
       "      <td>Cash loans</td>\n",
       "      <td>F</td>\n",
       "      <td>N</td>\n",
       "      <td>Y</td>\n",
       "      <td>0</td>\n",
       "      <td>135000.0</td>\n",
       "      <td>312682.5</td>\n",
       "      <td>29686.5</td>\n",
       "      <td>...</td>\n",
       "      <td>0</td>\n",
       "      <td>0</td>\n",
       "      <td>0</td>\n",
       "      <td>0</td>\n",
       "      <td>NaN</td>\n",
       "      <td>NaN</td>\n",
       "      <td>NaN</td>\n",
       "      <td>NaN</td>\n",
       "      <td>NaN</td>\n",
       "      <td>NaN</td>\n",
       "    </tr>\n",
       "    <tr>\n",
       "      <th>4</th>\n",
       "      <td>100007</td>\n",
       "      <td>0</td>\n",
       "      <td>Cash loans</td>\n",
       "      <td>M</td>\n",
       "      <td>N</td>\n",
       "      <td>Y</td>\n",
       "      <td>0</td>\n",
       "      <td>121500.0</td>\n",
       "      <td>513000.0</td>\n",
       "      <td>21865.5</td>\n",
       "      <td>...</td>\n",
       "      <td>0</td>\n",
       "      <td>0</td>\n",
       "      <td>0</td>\n",
       "      <td>0</td>\n",
       "      <td>0.0</td>\n",
       "      <td>0.0</td>\n",
       "      <td>0.0</td>\n",
       "      <td>0.0</td>\n",
       "      <td>0.0</td>\n",
       "      <td>0.0</td>\n",
       "    </tr>\n",
       "  </tbody>\n",
       "</table>\n",
       "<p>5 rows × 122 columns</p>\n",
       "</div>"
      ],
      "text/plain": [
       "   SK_ID_CURR  TARGET NAME_CONTRACT_TYPE CODE_GENDER FLAG_OWN_CAR  \\\n",
       "0      100002       1         Cash loans           M            N   \n",
       "1      100003       0         Cash loans           F            N   \n",
       "2      100004       0    Revolving loans           M            Y   \n",
       "3      100006       0         Cash loans           F            N   \n",
       "4      100007       0         Cash loans           M            N   \n",
       "\n",
       "  FLAG_OWN_REALTY  CNT_CHILDREN  AMT_INCOME_TOTAL  AMT_CREDIT  AMT_ANNUITY  \\\n",
       "0               Y             0          202500.0    406597.5      24700.5   \n",
       "1               N             0          270000.0   1293502.5      35698.5   \n",
       "2               Y             0           67500.0    135000.0       6750.0   \n",
       "3               Y             0          135000.0    312682.5      29686.5   \n",
       "4               Y             0          121500.0    513000.0      21865.5   \n",
       "\n",
       "   ...  FLAG_DOCUMENT_18 FLAG_DOCUMENT_19 FLAG_DOCUMENT_20 FLAG_DOCUMENT_21  \\\n",
       "0  ...                 0                0                0                0   \n",
       "1  ...                 0                0                0                0   \n",
       "2  ...                 0                0                0                0   \n",
       "3  ...                 0                0                0                0   \n",
       "4  ...                 0                0                0                0   \n",
       "\n",
       "  AMT_REQ_CREDIT_BUREAU_HOUR AMT_REQ_CREDIT_BUREAU_DAY  \\\n",
       "0                        0.0                       0.0   \n",
       "1                        0.0                       0.0   \n",
       "2                        0.0                       0.0   \n",
       "3                        NaN                       NaN   \n",
       "4                        0.0                       0.0   \n",
       "\n",
       "   AMT_REQ_CREDIT_BUREAU_WEEK  AMT_REQ_CREDIT_BUREAU_MON  \\\n",
       "0                         0.0                        0.0   \n",
       "1                         0.0                        0.0   \n",
       "2                         0.0                        0.0   \n",
       "3                         NaN                        NaN   \n",
       "4                         0.0                        0.0   \n",
       "\n",
       "   AMT_REQ_CREDIT_BUREAU_QRT  AMT_REQ_CREDIT_BUREAU_YEAR  \n",
       "0                        0.0                         1.0  \n",
       "1                        0.0                         0.0  \n",
       "2                        0.0                         0.0  \n",
       "3                        NaN                         NaN  \n",
       "4                        0.0                         0.0  \n",
       "\n",
       "[5 rows x 122 columns]"
      ]
     },
     "execution_count": 2,
     "metadata": {},
     "output_type": "execute_result"
    }
   ],
   "source": [
    "app.head()"
   ]
  },
  {
   "cell_type": "code",
   "execution_count": 40,
   "id": "721d481d-1205-42b0-af73-5f88735f410c",
   "metadata": {},
   "outputs": [],
   "source": [
    "# get a summary of the data frame for examination\n",
    "app_stats = app.describe().T"
   ]
  },
  {
   "cell_type": "markdown",
   "id": "dc1a9ea4-d757-4bc5-b3d1-272459dd00e4",
   "metadata": {},
   "source": [
    "## Missingness Check"
   ]
  },
  {
   "cell_type": "code",
   "execution_count": 57,
   "id": "3b91f09d-d1ff-449a-8c7e-1c219089e47f",
   "metadata": {},
   "outputs": [
    {
     "data": {
      "application/vnd.plotly.v1+json": {
       "config": {
        "plotlyServerURL": "https://plot.ly"
       },
       "data": [
        {
         "alignmentgroup": "True",
         "hovertemplate": "Present/Missing=Present<br>Column=%{x}<br>Proportion=%{y}<extra></extra>",
         "legendgroup": "Present",
         "marker": {
          "color": "#636efa",
          "pattern": {
           "shape": ""
          }
         },
         "name": "Present",
         "offsetgroup": "Present",
         "orientation": "v",
         "showlegend": true,
         "textposition": "auto",
         "type": "bar",
         "x": [
          "SK_ID_CURR",
          "TARGET",
          "CNT_CHILDREN",
          "AMT_INCOME_TOTAL",
          "AMT_CREDIT",
          "AMT_ANNUITY",
          "AMT_GOODS_PRICE",
          "REGION_POPULATION_RELATIVE",
          "DAYS_BIRTH",
          "DAYS_EMPLOYED",
          "DAYS_REGISTRATION",
          "DAYS_ID_PUBLISH",
          "OWN_CAR_AGE",
          "FLAG_MOBIL",
          "FLAG_EMP_PHONE",
          "FLAG_WORK_PHONE",
          "FLAG_CONT_MOBILE",
          "FLAG_PHONE",
          "FLAG_EMAIL",
          "CNT_FAM_MEMBERS",
          "REGION_RATING_CLIENT",
          "REGION_RATING_CLIENT_W_CITY",
          "HOUR_APPR_PROCESS_START",
          "REG_REGION_NOT_LIVE_REGION",
          "REG_REGION_NOT_WORK_REGION",
          "LIVE_REGION_NOT_WORK_REGION",
          "REG_CITY_NOT_LIVE_CITY",
          "REG_CITY_NOT_WORK_CITY",
          "LIVE_CITY_NOT_WORK_CITY",
          "EXT_SOURCE_1",
          "EXT_SOURCE_2",
          "EXT_SOURCE_3",
          "APARTMENTS_AVG",
          "BASEMENTAREA_AVG",
          "YEARS_BEGINEXPLUATATION_AVG",
          "YEARS_BUILD_AVG",
          "COMMONAREA_AVG",
          "ELEVATORS_AVG",
          "ENTRANCES_AVG",
          "FLOORSMAX_AVG",
          "FLOORSMIN_AVG",
          "LANDAREA_AVG",
          "LIVINGAPARTMENTS_AVG",
          "LIVINGAREA_AVG",
          "NONLIVINGAPARTMENTS_AVG",
          "NONLIVINGAREA_AVG",
          "APARTMENTS_MODE",
          "BASEMENTAREA_MODE",
          "YEARS_BEGINEXPLUATATION_MODE",
          "YEARS_BUILD_MODE",
          "COMMONAREA_MODE",
          "ELEVATORS_MODE",
          "ENTRANCES_MODE",
          "FLOORSMAX_MODE",
          "FLOORSMIN_MODE",
          "LANDAREA_MODE",
          "LIVINGAPARTMENTS_MODE",
          "LIVINGAREA_MODE",
          "NONLIVINGAPARTMENTS_MODE",
          "NONLIVINGAREA_MODE",
          "APARTMENTS_MEDI",
          "BASEMENTAREA_MEDI",
          "YEARS_BEGINEXPLUATATION_MEDI",
          "YEARS_BUILD_MEDI",
          "COMMONAREA_MEDI",
          "ELEVATORS_MEDI",
          "ENTRANCES_MEDI",
          "FLOORSMAX_MEDI",
          "FLOORSMIN_MEDI",
          "LANDAREA_MEDI",
          "LIVINGAPARTMENTS_MEDI",
          "LIVINGAREA_MEDI",
          "NONLIVINGAPARTMENTS_MEDI",
          "NONLIVINGAREA_MEDI",
          "TOTALAREA_MODE",
          "OBS_30_CNT_SOCIAL_CIRCLE",
          "DEF_30_CNT_SOCIAL_CIRCLE",
          "OBS_60_CNT_SOCIAL_CIRCLE",
          "DEF_60_CNT_SOCIAL_CIRCLE",
          "DAYS_LAST_PHONE_CHANGE",
          "FLAG_DOCUMENT_2",
          "FLAG_DOCUMENT_3",
          "FLAG_DOCUMENT_4",
          "FLAG_DOCUMENT_5",
          "FLAG_DOCUMENT_6",
          "FLAG_DOCUMENT_7",
          "FLAG_DOCUMENT_8",
          "FLAG_DOCUMENT_9",
          "FLAG_DOCUMENT_10",
          "FLAG_DOCUMENT_11",
          "FLAG_DOCUMENT_12",
          "FLAG_DOCUMENT_13",
          "FLAG_DOCUMENT_14",
          "FLAG_DOCUMENT_15",
          "FLAG_DOCUMENT_16",
          "FLAG_DOCUMENT_17",
          "FLAG_DOCUMENT_18",
          "FLAG_DOCUMENT_19",
          "FLAG_DOCUMENT_20",
          "FLAG_DOCUMENT_21",
          "AMT_REQ_CREDIT_BUREAU_HOUR",
          "AMT_REQ_CREDIT_BUREAU_DAY",
          "AMT_REQ_CREDIT_BUREAU_WEEK",
          "AMT_REQ_CREDIT_BUREAU_MON",
          "AMT_REQ_CREDIT_BUREAU_QRT",
          "AMT_REQ_CREDIT_BUREAU_YEAR"
         ],
         "xaxis": "x",
         "y": [
          1,
          1,
          1,
          1,
          1,
          0.9999609770057006,
          0.9990959672987307,
          1,
          1,
          1,
          1,
          1,
          0.34009189915157506,
          1,
          1,
          1,
          1,
          1,
          1,
          0.9999934961676168,
          1,
          1,
          1,
          1,
          1,
          1,
          1,
          1,
          1,
          0.4361892745300168,
          0.9978537353135335,
          0.8017469293781361,
          0.49250270722022954,
          0.4148404447320584,
          0.5121898078442723,
          0.33502216180884586,
          0.3012770274884476,
          0.46704020343987696,
          0.49651231988449196,
          0.5023917843589335,
          0.32151370194887335,
          0.40623262257285103,
          0.3164504684385274,
          0.49806673582408434,
          0.30567036626332067,
          0.4482083567742292,
          0.49250270722022954,
          0.4148404447320584,
          0.5121898078442723,
          0.33502216180884586,
          0.3012770274884476,
          0.46704020343987696,
          0.49651231988449196,
          0.5023917843589335,
          0.32151370194887335,
          0.40623262257285103,
          0.3164504684385274,
          0.49806673582408434,
          0.30567036626332067,
          0.4482083567742292,
          0.49250270722022954,
          0.4148404447320584,
          0.5121898078442723,
          0.33502216180884586,
          0.3012770274884476,
          0.46704020343987696,
          0.49651231988449196,
          0.5023917843589335,
          0.32151370194887335,
          0.40623262257285103,
          0.3164504684385274,
          0.49806673582408434,
          0.30567036626332067,
          0.4482083567742292,
          0.5173148277622589,
          0.9966797935683601,
          0.9966797935683601,
          0.9966797935683601,
          0.9966797935683601,
          0.9999967480838083,
          1,
          1,
          1,
          1,
          1,
          1,
          1,
          1,
          1,
          1,
          1,
          1,
          1,
          1,
          1,
          1,
          1,
          1,
          1,
          1,
          0.8649836916402991,
          0.8649836916402991,
          0.8649836916402991,
          0.8649836916402991,
          0.8649836916402991,
          0.8649836916402991
         ],
         "yaxis": "y"
        },
        {
         "alignmentgroup": "True",
         "hovertemplate": "Present/Missing=Missing<br>Column=%{x}<br>Proportion=%{y}<extra></extra>",
         "legendgroup": "Missing",
         "marker": {
          "color": "#EF553B",
          "pattern": {
           "shape": ""
          }
         },
         "name": "Missing",
         "offsetgroup": "Missing",
         "orientation": "v",
         "showlegend": true,
         "textposition": "auto",
         "type": "bar",
         "x": [
          "SK_ID_CURR",
          "TARGET",
          "CNT_CHILDREN",
          "AMT_INCOME_TOTAL",
          "AMT_CREDIT",
          "AMT_ANNUITY",
          "AMT_GOODS_PRICE",
          "REGION_POPULATION_RELATIVE",
          "DAYS_BIRTH",
          "DAYS_EMPLOYED",
          "DAYS_REGISTRATION",
          "DAYS_ID_PUBLISH",
          "OWN_CAR_AGE",
          "FLAG_MOBIL",
          "FLAG_EMP_PHONE",
          "FLAG_WORK_PHONE",
          "FLAG_CONT_MOBILE",
          "FLAG_PHONE",
          "FLAG_EMAIL",
          "CNT_FAM_MEMBERS",
          "REGION_RATING_CLIENT",
          "REGION_RATING_CLIENT_W_CITY",
          "HOUR_APPR_PROCESS_START",
          "REG_REGION_NOT_LIVE_REGION",
          "REG_REGION_NOT_WORK_REGION",
          "LIVE_REGION_NOT_WORK_REGION",
          "REG_CITY_NOT_LIVE_CITY",
          "REG_CITY_NOT_WORK_CITY",
          "LIVE_CITY_NOT_WORK_CITY",
          "EXT_SOURCE_1",
          "EXT_SOURCE_2",
          "EXT_SOURCE_3",
          "APARTMENTS_AVG",
          "BASEMENTAREA_AVG",
          "YEARS_BEGINEXPLUATATION_AVG",
          "YEARS_BUILD_AVG",
          "COMMONAREA_AVG",
          "ELEVATORS_AVG",
          "ENTRANCES_AVG",
          "FLOORSMAX_AVG",
          "FLOORSMIN_AVG",
          "LANDAREA_AVG",
          "LIVINGAPARTMENTS_AVG",
          "LIVINGAREA_AVG",
          "NONLIVINGAPARTMENTS_AVG",
          "NONLIVINGAREA_AVG",
          "APARTMENTS_MODE",
          "BASEMENTAREA_MODE",
          "YEARS_BEGINEXPLUATATION_MODE",
          "YEARS_BUILD_MODE",
          "COMMONAREA_MODE",
          "ELEVATORS_MODE",
          "ENTRANCES_MODE",
          "FLOORSMAX_MODE",
          "FLOORSMIN_MODE",
          "LANDAREA_MODE",
          "LIVINGAPARTMENTS_MODE",
          "LIVINGAREA_MODE",
          "NONLIVINGAPARTMENTS_MODE",
          "NONLIVINGAREA_MODE",
          "APARTMENTS_MEDI",
          "BASEMENTAREA_MEDI",
          "YEARS_BEGINEXPLUATATION_MEDI",
          "YEARS_BUILD_MEDI",
          "COMMONAREA_MEDI",
          "ELEVATORS_MEDI",
          "ENTRANCES_MEDI",
          "FLOORSMAX_MEDI",
          "FLOORSMIN_MEDI",
          "LANDAREA_MEDI",
          "LIVINGAPARTMENTS_MEDI",
          "LIVINGAREA_MEDI",
          "NONLIVINGAPARTMENTS_MEDI",
          "NONLIVINGAREA_MEDI",
          "TOTALAREA_MODE",
          "OBS_30_CNT_SOCIAL_CIRCLE",
          "DEF_30_CNT_SOCIAL_CIRCLE",
          "OBS_60_CNT_SOCIAL_CIRCLE",
          "DEF_60_CNT_SOCIAL_CIRCLE",
          "DAYS_LAST_PHONE_CHANGE",
          "FLAG_DOCUMENT_2",
          "FLAG_DOCUMENT_3",
          "FLAG_DOCUMENT_4",
          "FLAG_DOCUMENT_5",
          "FLAG_DOCUMENT_6",
          "FLAG_DOCUMENT_7",
          "FLAG_DOCUMENT_8",
          "FLAG_DOCUMENT_9",
          "FLAG_DOCUMENT_10",
          "FLAG_DOCUMENT_11",
          "FLAG_DOCUMENT_12",
          "FLAG_DOCUMENT_13",
          "FLAG_DOCUMENT_14",
          "FLAG_DOCUMENT_15",
          "FLAG_DOCUMENT_16",
          "FLAG_DOCUMENT_17",
          "FLAG_DOCUMENT_18",
          "FLAG_DOCUMENT_19",
          "FLAG_DOCUMENT_20",
          "FLAG_DOCUMENT_21",
          "AMT_REQ_CREDIT_BUREAU_HOUR",
          "AMT_REQ_CREDIT_BUREAU_DAY",
          "AMT_REQ_CREDIT_BUREAU_WEEK",
          "AMT_REQ_CREDIT_BUREAU_MON",
          "AMT_REQ_CREDIT_BUREAU_QRT",
          "AMT_REQ_CREDIT_BUREAU_YEAR"
         ],
         "xaxis": "x",
         "y": [
          0,
          0,
          0,
          0,
          0,
          3.9022994299390916e-05,
          0.0009040327012692228,
          0,
          0,
          0,
          0,
          0,
          0.6599081008484249,
          0,
          0,
          0,
          0,
          0,
          0,
          6.503832383231819e-06,
          0,
          0,
          0,
          0,
          0,
          0,
          0,
          0,
          0,
          0.5638107254699832,
          0.0021462646864665006,
          0.19825307062186392,
          0.5074972927797705,
          0.5851595552679416,
          0.48781019215572774,
          0.6649778381911542,
          0.6987229725115525,
          0.532959796560123,
          0.503487680115508,
          0.4976082156410665,
          0.6784862980511266,
          0.5937673774271489,
          0.6835495315614726,
          0.5019332641759157,
          0.6943296337366793,
          0.5517916432257708,
          0.5074972927797705,
          0.5851595552679416,
          0.48781019215572774,
          0.6649778381911542,
          0.6987229725115525,
          0.532959796560123,
          0.503487680115508,
          0.4976082156410665,
          0.6784862980511266,
          0.5937673774271489,
          0.6835495315614726,
          0.5019332641759157,
          0.6943296337366793,
          0.5517916432257708,
          0.5074972927797705,
          0.5851595552679416,
          0.48781019215572774,
          0.6649778381911542,
          0.6987229725115525,
          0.532959796560123,
          0.503487680115508,
          0.4976082156410665,
          0.6784862980511266,
          0.5937673774271489,
          0.6835495315614726,
          0.5019332641759157,
          0.6943296337366793,
          0.5517916432257708,
          0.4826851722377411,
          0.0033202064316398437,
          0.0033202064316398437,
          0.0033202064316398437,
          0.0033202064316398437,
          3.2519161916159095e-06,
          0,
          0,
          0,
          0,
          0,
          0,
          0,
          0,
          0,
          0,
          0,
          0,
          0,
          0,
          0,
          0,
          0,
          0,
          0,
          0,
          0.13501630835970097,
          0.13501630835970097,
          0.13501630835970097,
          0.13501630835970097,
          0.13501630835970097,
          0.13501630835970097
         ],
         "yaxis": "y"
        }
       ],
       "layout": {
        "barmode": "stack",
        "height": 600,
        "legend": {
         "title": {
          "text": "Present/Missing"
         },
         "tracegroupgap": 0
        },
        "margin": {
         "t": 60
        },
        "template": {
         "data": {
          "bar": [
           {
            "error_x": {
             "color": "#2a3f5f"
            },
            "error_y": {
             "color": "#2a3f5f"
            },
            "marker": {
             "line": {
              "color": "#E5ECF6",
              "width": 0.5
             },
             "pattern": {
              "fillmode": "overlay",
              "size": 10,
              "solidity": 0.2
             }
            },
            "type": "bar"
           }
          ],
          "barpolar": [
           {
            "marker": {
             "line": {
              "color": "#E5ECF6",
              "width": 0.5
             },
             "pattern": {
              "fillmode": "overlay",
              "size": 10,
              "solidity": 0.2
             }
            },
            "type": "barpolar"
           }
          ],
          "carpet": [
           {
            "aaxis": {
             "endlinecolor": "#2a3f5f",
             "gridcolor": "white",
             "linecolor": "white",
             "minorgridcolor": "white",
             "startlinecolor": "#2a3f5f"
            },
            "baxis": {
             "endlinecolor": "#2a3f5f",
             "gridcolor": "white",
             "linecolor": "white",
             "minorgridcolor": "white",
             "startlinecolor": "#2a3f5f"
            },
            "type": "carpet"
           }
          ],
          "choropleth": [
           {
            "colorbar": {
             "outlinewidth": 0,
             "ticks": ""
            },
            "type": "choropleth"
           }
          ],
          "contour": [
           {
            "colorbar": {
             "outlinewidth": 0,
             "ticks": ""
            },
            "colorscale": [
             [
              0,
              "#0d0887"
             ],
             [
              0.1111111111111111,
              "#46039f"
             ],
             [
              0.2222222222222222,
              "#7201a8"
             ],
             [
              0.3333333333333333,
              "#9c179e"
             ],
             [
              0.4444444444444444,
              "#bd3786"
             ],
             [
              0.5555555555555556,
              "#d8576b"
             ],
             [
              0.6666666666666666,
              "#ed7953"
             ],
             [
              0.7777777777777778,
              "#fb9f3a"
             ],
             [
              0.8888888888888888,
              "#fdca26"
             ],
             [
              1,
              "#f0f921"
             ]
            ],
            "type": "contour"
           }
          ],
          "contourcarpet": [
           {
            "colorbar": {
             "outlinewidth": 0,
             "ticks": ""
            },
            "type": "contourcarpet"
           }
          ],
          "heatmap": [
           {
            "colorbar": {
             "outlinewidth": 0,
             "ticks": ""
            },
            "colorscale": [
             [
              0,
              "#0d0887"
             ],
             [
              0.1111111111111111,
              "#46039f"
             ],
             [
              0.2222222222222222,
              "#7201a8"
             ],
             [
              0.3333333333333333,
              "#9c179e"
             ],
             [
              0.4444444444444444,
              "#bd3786"
             ],
             [
              0.5555555555555556,
              "#d8576b"
             ],
             [
              0.6666666666666666,
              "#ed7953"
             ],
             [
              0.7777777777777778,
              "#fb9f3a"
             ],
             [
              0.8888888888888888,
              "#fdca26"
             ],
             [
              1,
              "#f0f921"
             ]
            ],
            "type": "heatmap"
           }
          ],
          "heatmapgl": [
           {
            "colorbar": {
             "outlinewidth": 0,
             "ticks": ""
            },
            "colorscale": [
             [
              0,
              "#0d0887"
             ],
             [
              0.1111111111111111,
              "#46039f"
             ],
             [
              0.2222222222222222,
              "#7201a8"
             ],
             [
              0.3333333333333333,
              "#9c179e"
             ],
             [
              0.4444444444444444,
              "#bd3786"
             ],
             [
              0.5555555555555556,
              "#d8576b"
             ],
             [
              0.6666666666666666,
              "#ed7953"
             ],
             [
              0.7777777777777778,
              "#fb9f3a"
             ],
             [
              0.8888888888888888,
              "#fdca26"
             ],
             [
              1,
              "#f0f921"
             ]
            ],
            "type": "heatmapgl"
           }
          ],
          "histogram": [
           {
            "marker": {
             "pattern": {
              "fillmode": "overlay",
              "size": 10,
              "solidity": 0.2
             }
            },
            "type": "histogram"
           }
          ],
          "histogram2d": [
           {
            "colorbar": {
             "outlinewidth": 0,
             "ticks": ""
            },
            "colorscale": [
             [
              0,
              "#0d0887"
             ],
             [
              0.1111111111111111,
              "#46039f"
             ],
             [
              0.2222222222222222,
              "#7201a8"
             ],
             [
              0.3333333333333333,
              "#9c179e"
             ],
             [
              0.4444444444444444,
              "#bd3786"
             ],
             [
              0.5555555555555556,
              "#d8576b"
             ],
             [
              0.6666666666666666,
              "#ed7953"
             ],
             [
              0.7777777777777778,
              "#fb9f3a"
             ],
             [
              0.8888888888888888,
              "#fdca26"
             ],
             [
              1,
              "#f0f921"
             ]
            ],
            "type": "histogram2d"
           }
          ],
          "histogram2dcontour": [
           {
            "colorbar": {
             "outlinewidth": 0,
             "ticks": ""
            },
            "colorscale": [
             [
              0,
              "#0d0887"
             ],
             [
              0.1111111111111111,
              "#46039f"
             ],
             [
              0.2222222222222222,
              "#7201a8"
             ],
             [
              0.3333333333333333,
              "#9c179e"
             ],
             [
              0.4444444444444444,
              "#bd3786"
             ],
             [
              0.5555555555555556,
              "#d8576b"
             ],
             [
              0.6666666666666666,
              "#ed7953"
             ],
             [
              0.7777777777777778,
              "#fb9f3a"
             ],
             [
              0.8888888888888888,
              "#fdca26"
             ],
             [
              1,
              "#f0f921"
             ]
            ],
            "type": "histogram2dcontour"
           }
          ],
          "mesh3d": [
           {
            "colorbar": {
             "outlinewidth": 0,
             "ticks": ""
            },
            "type": "mesh3d"
           }
          ],
          "parcoords": [
           {
            "line": {
             "colorbar": {
              "outlinewidth": 0,
              "ticks": ""
             }
            },
            "type": "parcoords"
           }
          ],
          "pie": [
           {
            "automargin": true,
            "type": "pie"
           }
          ],
          "scatter": [
           {
            "fillpattern": {
             "fillmode": "overlay",
             "size": 10,
             "solidity": 0.2
            },
            "type": "scatter"
           }
          ],
          "scatter3d": [
           {
            "line": {
             "colorbar": {
              "outlinewidth": 0,
              "ticks": ""
             }
            },
            "marker": {
             "colorbar": {
              "outlinewidth": 0,
              "ticks": ""
             }
            },
            "type": "scatter3d"
           }
          ],
          "scattercarpet": [
           {
            "marker": {
             "colorbar": {
              "outlinewidth": 0,
              "ticks": ""
             }
            },
            "type": "scattercarpet"
           }
          ],
          "scattergeo": [
           {
            "marker": {
             "colorbar": {
              "outlinewidth": 0,
              "ticks": ""
             }
            },
            "type": "scattergeo"
           }
          ],
          "scattergl": [
           {
            "marker": {
             "colorbar": {
              "outlinewidth": 0,
              "ticks": ""
             }
            },
            "type": "scattergl"
           }
          ],
          "scattermapbox": [
           {
            "marker": {
             "colorbar": {
              "outlinewidth": 0,
              "ticks": ""
             }
            },
            "type": "scattermapbox"
           }
          ],
          "scatterpolar": [
           {
            "marker": {
             "colorbar": {
              "outlinewidth": 0,
              "ticks": ""
             }
            },
            "type": "scatterpolar"
           }
          ],
          "scatterpolargl": [
           {
            "marker": {
             "colorbar": {
              "outlinewidth": 0,
              "ticks": ""
             }
            },
            "type": "scatterpolargl"
           }
          ],
          "scatterternary": [
           {
            "marker": {
             "colorbar": {
              "outlinewidth": 0,
              "ticks": ""
             }
            },
            "type": "scatterternary"
           }
          ],
          "surface": [
           {
            "colorbar": {
             "outlinewidth": 0,
             "ticks": ""
            },
            "colorscale": [
             [
              0,
              "#0d0887"
             ],
             [
              0.1111111111111111,
              "#46039f"
             ],
             [
              0.2222222222222222,
              "#7201a8"
             ],
             [
              0.3333333333333333,
              "#9c179e"
             ],
             [
              0.4444444444444444,
              "#bd3786"
             ],
             [
              0.5555555555555556,
              "#d8576b"
             ],
             [
              0.6666666666666666,
              "#ed7953"
             ],
             [
              0.7777777777777778,
              "#fb9f3a"
             ],
             [
              0.8888888888888888,
              "#fdca26"
             ],
             [
              1,
              "#f0f921"
             ]
            ],
            "type": "surface"
           }
          ],
          "table": [
           {
            "cells": {
             "fill": {
              "color": "#EBF0F8"
             },
             "line": {
              "color": "white"
             }
            },
            "header": {
             "fill": {
              "color": "#C8D4E3"
             },
             "line": {
              "color": "white"
             }
            },
            "type": "table"
           }
          ]
         },
         "layout": {
          "annotationdefaults": {
           "arrowcolor": "#2a3f5f",
           "arrowhead": 0,
           "arrowwidth": 1
          },
          "autotypenumbers": "strict",
          "coloraxis": {
           "colorbar": {
            "outlinewidth": 0,
            "ticks": ""
           }
          },
          "colorscale": {
           "diverging": [
            [
             0,
             "#8e0152"
            ],
            [
             0.1,
             "#c51b7d"
            ],
            [
             0.2,
             "#de77ae"
            ],
            [
             0.3,
             "#f1b6da"
            ],
            [
             0.4,
             "#fde0ef"
            ],
            [
             0.5,
             "#f7f7f7"
            ],
            [
             0.6,
             "#e6f5d0"
            ],
            [
             0.7,
             "#b8e186"
            ],
            [
             0.8,
             "#7fbc41"
            ],
            [
             0.9,
             "#4d9221"
            ],
            [
             1,
             "#276419"
            ]
           ],
           "sequential": [
            [
             0,
             "#0d0887"
            ],
            [
             0.1111111111111111,
             "#46039f"
            ],
            [
             0.2222222222222222,
             "#7201a8"
            ],
            [
             0.3333333333333333,
             "#9c179e"
            ],
            [
             0.4444444444444444,
             "#bd3786"
            ],
            [
             0.5555555555555556,
             "#d8576b"
            ],
            [
             0.6666666666666666,
             "#ed7953"
            ],
            [
             0.7777777777777778,
             "#fb9f3a"
            ],
            [
             0.8888888888888888,
             "#fdca26"
            ],
            [
             1,
             "#f0f921"
            ]
           ],
           "sequentialminus": [
            [
             0,
             "#0d0887"
            ],
            [
             0.1111111111111111,
             "#46039f"
            ],
            [
             0.2222222222222222,
             "#7201a8"
            ],
            [
             0.3333333333333333,
             "#9c179e"
            ],
            [
             0.4444444444444444,
             "#bd3786"
            ],
            [
             0.5555555555555556,
             "#d8576b"
            ],
            [
             0.6666666666666666,
             "#ed7953"
            ],
            [
             0.7777777777777778,
             "#fb9f3a"
            ],
            [
             0.8888888888888888,
             "#fdca26"
            ],
            [
             1,
             "#f0f921"
            ]
           ]
          },
          "colorway": [
           "#636efa",
           "#EF553B",
           "#00cc96",
           "#ab63fa",
           "#FFA15A",
           "#19d3f3",
           "#FF6692",
           "#B6E880",
           "#FF97FF",
           "#FECB52"
          ],
          "font": {
           "color": "#2a3f5f"
          },
          "geo": {
           "bgcolor": "white",
           "lakecolor": "white",
           "landcolor": "#E5ECF6",
           "showlakes": true,
           "showland": true,
           "subunitcolor": "white"
          },
          "hoverlabel": {
           "align": "left"
          },
          "hovermode": "closest",
          "mapbox": {
           "style": "light"
          },
          "paper_bgcolor": "white",
          "plot_bgcolor": "#E5ECF6",
          "polar": {
           "angularaxis": {
            "gridcolor": "white",
            "linecolor": "white",
            "ticks": ""
           },
           "bgcolor": "#E5ECF6",
           "radialaxis": {
            "gridcolor": "white",
            "linecolor": "white",
            "ticks": ""
           }
          },
          "scene": {
           "xaxis": {
            "backgroundcolor": "#E5ECF6",
            "gridcolor": "white",
            "gridwidth": 2,
            "linecolor": "white",
            "showbackground": true,
            "ticks": "",
            "zerolinecolor": "white"
           },
           "yaxis": {
            "backgroundcolor": "#E5ECF6",
            "gridcolor": "white",
            "gridwidth": 2,
            "linecolor": "white",
            "showbackground": true,
            "ticks": "",
            "zerolinecolor": "white"
           },
           "zaxis": {
            "backgroundcolor": "#E5ECF6",
            "gridcolor": "white",
            "gridwidth": 2,
            "linecolor": "white",
            "showbackground": true,
            "ticks": "",
            "zerolinecolor": "white"
           }
          },
          "shapedefaults": {
           "line": {
            "color": "#2a3f5f"
           }
          },
          "ternary": {
           "aaxis": {
            "gridcolor": "white",
            "linecolor": "white",
            "ticks": ""
           },
           "baxis": {
            "gridcolor": "white",
            "linecolor": "white",
            "ticks": ""
           },
           "bgcolor": "#E5ECF6",
           "caxis": {
            "gridcolor": "white",
            "linecolor": "white",
            "ticks": ""
           }
          },
          "title": {
           "x": 0.05
          },
          "xaxis": {
           "automargin": true,
           "gridcolor": "white",
           "linecolor": "white",
           "ticks": "",
           "title": {
            "standoff": 15
           },
           "zerolinecolor": "white",
           "zerolinewidth": 2
          },
          "yaxis": {
           "automargin": true,
           "gridcolor": "white",
           "linecolor": "white",
           "ticks": "",
           "title": {
            "standoff": 15
           },
           "zerolinecolor": "white",
           "zerolinewidth": 2
          }
         }
        },
        "width": 1200,
        "xaxis": {
         "anchor": "y",
         "autorange": true,
         "domain": [
          0,
          1
         ],
         "range": [
          -0.5,
          105.5
         ],
         "title": {
          "text": "Column"
         },
         "type": "category"
        },
        "yaxis": {
         "anchor": "x",
         "autorange": true,
         "domain": [
          0,
          1
         ],
         "range": [
          0,
          1.0526315789473684
         ],
         "title": {
          "text": "Proportion"
         },
         "type": "linear"
        }
       }
      },
      "image/png": "[encoded data removed]",
      "text/html": [
       "<div>                            <div id=\"21e56124-193b-4826-bf96-a2b5b1bb2a17\" class=\"plotly-graph-div\" style=\"height:600px; width:1200px;\"></div>            <script type=\"text/javascript\">                require([\"plotly\"], function(Plotly) {                    window.PLOTLYENV=window.PLOTLYENV || {};                                    if (document.getElementById(\"21e56124-193b-4826-bf96-a2b5b1bb2a17\")) {                    Plotly.newPlot(                        \"21e56124-193b-4826-bf96-a2b5b1bb2a17\",                        [{\"alignmentgroup\":\"True\",\"hovertemplate\":\"Present/Missing=Present<br>Column=%{x}<br>Proportion=%{y}<extra></extra>\",\"legendgroup\":\"Present\",\"marker\":{\"color\":\"#636efa\",\"pattern\":{\"shape\":\"\"}},\"name\":\"Present\",\"offsetgroup\":\"Present\",\"orientation\":\"v\",\"showlegend\":true,\"textposition\":\"auto\",\"x\":[\"SK_ID_CURR\",\"TARGET\",\"CNT_CHILDREN\",\"AMT_INCOME_TOTAL\",\"AMT_CREDIT\",\"AMT_ANNUITY\",\"AMT_GOODS_PRICE\",\"REGION_POPULATION_RELATIVE\",\"DAYS_BIRTH\",\"DAYS_EMPLOYED\",\"DAYS_REGISTRATION\",\"DAYS_ID_PUBLISH\",\"OWN_CAR_AGE\",\"FLAG_MOBIL\",\"FLAG_EMP_PHONE\",\"FLAG_WORK_PHONE\",\"FLAG_CONT_MOBILE\",\"FLAG_PHONE\",\"FLAG_EMAIL\",\"CNT_FAM_MEMBERS\",\"REGION_RATING_CLIENT\",\"REGION_RATING_CLIENT_W_CITY\",\"HOUR_APPR_PROCESS_START\",\"REG_REGION_NOT_LIVE_REGION\",\"REG_REGION_NOT_WORK_REGION\",\"LIVE_REGION_NOT_WORK_REGION\",\"REG_CITY_NOT_LIVE_CITY\",\"REG_CITY_NOT_WORK_CITY\",\"LIVE_CITY_NOT_WORK_CITY\",\"EXT_SOURCE_1\",\"EXT_SOURCE_2\",\"EXT_SOURCE_3\",\"APARTMENTS_AVG\",\"BASEMENTAREA_AVG\",\"YEARS_BEGINEXPLUATATION_AVG\",\"YEARS_BUILD_AVG\",\"COMMONAREA_AVG\",\"ELEVATORS_AVG\",\"ENTRANCES_AVG\",\"FLOORSMAX_AVG\",\"FLOORSMIN_AVG\",\"LANDAREA_AVG\",\"LIVINGAPARTMENTS_AVG\",\"LIVINGAREA_AVG\",\"NONLIVINGAPARTMENTS_AVG\",\"NONLIVINGAREA_AVG\",\"APARTMENTS_MODE\",\"BASEMENTAREA_MODE\",\"YEARS_BEGINEXPLUATATION_MODE\",\"YEARS_BUILD_MODE\",\"COMMONAREA_MODE\",\"ELEVATORS_MODE\",\"ENTRANCES_MODE\",\"FLOORSMAX_MODE\",\"FLOORSMIN_MODE\",\"LANDAREA_MODE\",\"LIVINGAPARTMENTS_MODE\",\"LIVINGAREA_MODE\",\"NONLIVINGAPARTMENTS_MODE\",\"NONLIVINGAREA_MODE\",\"APARTMENTS_MEDI\",\"BASEMENTAREA_MEDI\",\"YEARS_BEGINEXPLUATATION_MEDI\",\"YEARS_BUILD_MEDI\",\"COMMONAREA_MEDI\",\"ELEVATORS_MEDI\",\"ENTRANCES_MEDI\",\"FLOORSMAX_MEDI\",\"FLOORSMIN_MEDI\",\"LANDAREA_MEDI\",\"LIVINGAPARTMENTS_MEDI\",\"LIVINGAREA_MEDI\",\"NONLIVINGAPARTMENTS_MEDI\",\"NONLIVINGAREA_MEDI\",\"TOTALAREA_MODE\",\"OBS_30_CNT_SOCIAL_CIRCLE\",\"DEF_30_CNT_SOCIAL_CIRCLE\",\"OBS_60_CNT_SOCIAL_CIRCLE\",\"DEF_60_CNT_SOCIAL_CIRCLE\",\"DAYS_LAST_PHONE_CHANGE\",\"FLAG_DOCUMENT_2\",\"FLAG_DOCUMENT_3\",\"FLAG_DOCUMENT_4\",\"FLAG_DOCUMENT_5\",\"FLAG_DOCUMENT_6\",\"FLAG_DOCUMENT_7\",\"FLAG_DOCUMENT_8\",\"FLAG_DOCUMENT_9\",\"FLAG_DOCUMENT_10\",\"FLAG_DOCUMENT_11\",\"FLAG_DOCUMENT_12\",\"FLAG_DOCUMENT_13\",\"FLAG_DOCUMENT_14\",\"FLAG_DOCUMENT_15\",\"FLAG_DOCUMENT_16\",\"FLAG_DOCUMENT_17\",\"FLAG_DOCUMENT_18\",\"FLAG_DOCUMENT_19\",\"FLAG_DOCUMENT_20\",\"FLAG_DOCUMENT_21\",\"AMT_REQ_CREDIT_BUREAU_HOUR\",\"AMT_REQ_CREDIT_BUREAU_DAY\",\"AMT_REQ_CREDIT_BUREAU_WEEK\",\"AMT_REQ_CREDIT_BUREAU_MON\",\"AMT_REQ_CREDIT_BUREAU_QRT\",\"AMT_REQ_CREDIT_BUREAU_YEAR\"],\"xaxis\":\"x\",\"y\":[1.0,1.0,1.0,1.0,1.0,0.9999609770057006,0.9990959672987307,1.0,1.0,1.0,1.0,1.0,0.34009189915157506,1.0,1.0,1.0,1.0,1.0,1.0,0.9999934961676168,1.0,1.0,1.0,1.0,1.0,1.0,1.0,1.0,1.0,0.4361892745300168,0.9978537353135335,0.8017469293781361,0.49250270722022954,0.4148404447320584,0.5121898078442723,0.33502216180884586,0.3012770274884476,0.46704020343987696,0.49651231988449196,0.5023917843589335,0.32151370194887335,0.40623262257285103,0.3164504684385274,0.49806673582408434,0.30567036626332067,0.4482083567742292,0.49250270722022954,0.4148404447320584,0.5121898078442723,0.33502216180884586,0.3012770274884476,0.46704020343987696,0.49651231988449196,0.5023917843589335,0.32151370194887335,0.40623262257285103,0.3164504684385274,0.49806673582408434,0.30567036626332067,0.4482083567742292,0.49250270722022954,0.4148404447320584,0.5121898078442723,0.33502216180884586,0.3012770274884476,0.46704020343987696,0.49651231988449196,0.5023917843589335,0.32151370194887335,0.40623262257285103,0.3164504684385274,0.49806673582408434,0.30567036626332067,0.4482083567742292,0.5173148277622589,0.9966797935683601,0.9966797935683601,0.9966797935683601,0.9966797935683601,0.9999967480838083,1.0,1.0,1.0,1.0,1.0,1.0,1.0,1.0,1.0,1.0,1.0,1.0,1.0,1.0,1.0,1.0,1.0,1.0,1.0,1.0,0.8649836916402991,0.8649836916402991,0.8649836916402991,0.8649836916402991,0.8649836916402991,0.8649836916402991],\"yaxis\":\"y\",\"type\":\"bar\"},{\"alignmentgroup\":\"True\",\"hovertemplate\":\"Present/Missing=Missing<br>Column=%{x}<br>Proportion=%{y}<extra></extra>\",\"legendgroup\":\"Missing\",\"marker\":{\"color\":\"#EF553B\",\"pattern\":{\"shape\":\"\"}},\"name\":\"Missing\",\"offsetgroup\":\"Missing\",\"orientation\":\"v\",\"showlegend\":true,\"textposition\":\"auto\",\"x\":[\"SK_ID_CURR\",\"TARGET\",\"CNT_CHILDREN\",\"AMT_INCOME_TOTAL\",\"AMT_CREDIT\",\"AMT_ANNUITY\",\"AMT_GOODS_PRICE\",\"REGION_POPULATION_RELATIVE\",\"DAYS_BIRTH\",\"DAYS_EMPLOYED\",\"DAYS_REGISTRATION\",\"DAYS_ID_PUBLISH\",\"OWN_CAR_AGE\",\"FLAG_MOBIL\",\"FLAG_EMP_PHONE\",\"FLAG_WORK_PHONE\",\"FLAG_CONT_MOBILE\",\"FLAG_PHONE\",\"FLAG_EMAIL\",\"CNT_FAM_MEMBERS\",\"REGION_RATING_CLIENT\",\"REGION_RATING_CLIENT_W_CITY\",\"HOUR_APPR_PROCESS_START\",\"REG_REGION_NOT_LIVE_REGION\",\"REG_REGION_NOT_WORK_REGION\",\"LIVE_REGION_NOT_WORK_REGION\",\"REG_CITY_NOT_LIVE_CITY\",\"REG_CITY_NOT_WORK_CITY\",\"LIVE_CITY_NOT_WORK_CITY\",\"EXT_SOURCE_1\",\"EXT_SOURCE_2\",\"EXT_SOURCE_3\",\"APARTMENTS_AVG\",\"BASEMENTAREA_AVG\",\"YEARS_BEGINEXPLUATATION_AVG\",\"YEARS_BUILD_AVG\",\"COMMONAREA_AVG\",\"ELEVATORS_AVG\",\"ENTRANCES_AVG\",\"FLOORSMAX_AVG\",\"FLOORSMIN_AVG\",\"LANDAREA_AVG\",\"LIVINGAPARTMENTS_AVG\",\"LIVINGAREA_AVG\",\"NONLIVINGAPARTMENTS_AVG\",\"NONLIVINGAREA_AVG\",\"APARTMENTS_MODE\",\"BASEMENTAREA_MODE\",\"YEARS_BEGINEXPLUATATION_MODE\",\"YEARS_BUILD_MODE\",\"COMMONAREA_MODE\",\"ELEVATORS_MODE\",\"ENTRANCES_MODE\",\"FLOORSMAX_MODE\",\"FLOORSMIN_MODE\",\"LANDAREA_MODE\",\"LIVINGAPARTMENTS_MODE\",\"LIVINGAREA_MODE\",\"NONLIVINGAPARTMENTS_MODE\",\"NONLIVINGAREA_MODE\",\"APARTMENTS_MEDI\",\"BASEMENTAREA_MEDI\",\"YEARS_BEGINEXPLUATATION_MEDI\",\"YEARS_BUILD_MEDI\",\"COMMONAREA_MEDI\",\"ELEVATORS_MEDI\",\"ENTRANCES_MEDI\",\"FLOORSMAX_MEDI\",\"FLOORSMIN_MEDI\",\"LANDAREA_MEDI\",\"LIVINGAPARTMENTS_MEDI\",\"LIVINGAREA_MEDI\",\"NONLIVINGAPARTMENTS_MEDI\",\"NONLIVINGAREA_MEDI\",\"TOTALAREA_MODE\",\"OBS_30_CNT_SOCIAL_CIRCLE\",\"DEF_30_CNT_SOCIAL_CIRCLE\",\"OBS_60_CNT_SOCIAL_CIRCLE\",\"DEF_60_CNT_SOCIAL_CIRCLE\",\"DAYS_LAST_PHONE_CHANGE\",\"FLAG_DOCUMENT_2\",\"FLAG_DOCUMENT_3\",\"FLAG_DOCUMENT_4\",\"FLAG_DOCUMENT_5\",\"FLAG_DOCUMENT_6\",\"FLAG_DOCUMENT_7\",\"FLAG_DOCUMENT_8\",\"FLAG_DOCUMENT_9\",\"FLAG_DOCUMENT_10\",\"FLAG_DOCUMENT_11\",\"FLAG_DOCUMENT_12\",\"FLAG_DOCUMENT_13\",\"FLAG_DOCUMENT_14\",\"FLAG_DOCUMENT_15\",\"FLAG_DOCUMENT_16\",\"FLAG_DOCUMENT_17\",\"FLAG_DOCUMENT_18\",\"FLAG_DOCUMENT_19\",\"FLAG_DOCUMENT_20\",\"FLAG_DOCUMENT_21\",\"AMT_REQ_CREDIT_BUREAU_HOUR\",\"AMT_REQ_CREDIT_BUREAU_DAY\",\"AMT_REQ_CREDIT_BUREAU_WEEK\",\"AMT_REQ_CREDIT_BUREAU_MON\",\"AMT_REQ_CREDIT_BUREAU_QRT\",\"AMT_REQ_CREDIT_BUREAU_YEAR\"],\"xaxis\":\"x\",\"y\":[0.0,0.0,0.0,0.0,0.0,3.9022994299390916e-05,0.0009040327012692228,0.0,0.0,0.0,0.0,0.0,0.6599081008484249,0.0,0.0,0.0,0.0,0.0,0.0,6.503832383231819e-06,0.0,0.0,0.0,0.0,0.0,0.0,0.0,0.0,0.0,0.5638107254699832,0.0021462646864665006,0.19825307062186392,0.5074972927797705,0.5851595552679416,0.48781019215572774,0.6649778381911542,0.6987229725115525,0.532959796560123,0.503487680115508,0.4976082156410665,0.6784862980511266,0.5937673774271489,0.6835495315614726,0.5019332641759157,0.6943296337366793,0.5517916432257708,0.5074972927797705,0.5851595552679416,0.48781019215572774,0.6649778381911542,0.6987229725115525,0.532959796560123,0.503487680115508,0.4976082156410665,0.6784862980511266,0.5937673774271489,0.6835495315614726,0.5019332641759157,0.6943296337366793,0.5517916432257708,0.5074972927797705,0.5851595552679416,0.48781019215572774,0.6649778381911542,0.6987229725115525,0.532959796560123,0.503487680115508,0.4976082156410665,0.6784862980511266,0.5937673774271489,0.6835495315614726,0.5019332641759157,0.6943296337366793,0.5517916432257708,0.4826851722377411,0.0033202064316398437,0.0033202064316398437,0.0033202064316398437,0.0033202064316398437,3.2519161916159095e-06,0.0,0.0,0.0,0.0,0.0,0.0,0.0,0.0,0.0,0.0,0.0,0.0,0.0,0.0,0.0,0.0,0.0,0.0,0.0,0.0,0.13501630835970097,0.13501630835970097,0.13501630835970097,0.13501630835970097,0.13501630835970097,0.13501630835970097],\"yaxis\":\"y\",\"type\":\"bar\"}],                        {\"template\":{\"data\":{\"histogram2dcontour\":[{\"type\":\"histogram2dcontour\",\"colorbar\":{\"outlinewidth\":0,\"ticks\":\"\"},\"colorscale\":[[0.0,\"#0d0887\"],[0.1111111111111111,\"#46039f\"],[0.2222222222222222,\"#7201a8\"],[0.3333333333333333,\"#9c179e\"],[0.4444444444444444,\"#bd3786\"],[0.5555555555555556,\"#d8576b\"],[0.6666666666666666,\"#ed7953\"],[0.7777777777777778,\"#fb9f3a\"],[0.8888888888888888,\"#fdca26\"],[1.0,\"#f0f921\"]]}],\"choropleth\":[{\"type\":\"choropleth\",\"colorbar\":{\"outlinewidth\":0,\"ticks\":\"\"}}],\"histogram2d\":[{\"type\":\"histogram2d\",\"colorbar\":{\"outlinewidth\":0,\"ticks\":\"\"},\"colorscale\":[[0.0,\"#0d0887\"],[0.1111111111111111,\"#46039f\"],[0.2222222222222222,\"#7201a8\"],[0.3333333333333333,\"#9c179e\"],[0.4444444444444444,\"#bd3786\"],[0.5555555555555556,\"#d8576b\"],[0.6666666666666666,\"#ed7953\"],[0.7777777777777778,\"#fb9f3a\"],[0.8888888888888888,\"#fdca26\"],[1.0,\"#f0f921\"]]}],\"heatmap\":[{\"type\":\"heatmap\",\"colorbar\":{\"outlinewidth\":0,\"ticks\":\"\"},\"colorscale\":[[0.0,\"#0d0887\"],[0.1111111111111111,\"#46039f\"],[0.2222222222222222,\"#7201a8\"],[0.3333333333333333,\"#9c179e\"],[0.4444444444444444,\"#bd3786\"],[0.5555555555555556,\"#d8576b\"],[0.6666666666666666,\"#ed7953\"],[0.7777777777777778,\"#fb9f3a\"],[0.8888888888888888,\"#fdca26\"],[1.0,\"#f0f921\"]]}],\"heatmapgl\":[{\"type\":\"heatmapgl\",\"colorbar\":{\"outlinewidth\":0,\"ticks\":\"\"},\"colorscale\":[[0.0,\"#0d0887\"],[0.1111111111111111,\"#46039f\"],[0.2222222222222222,\"#7201a8\"],[0.3333333333333333,\"#9c179e\"],[0.4444444444444444,\"#bd3786\"],[0.5555555555555556,\"#d8576b\"],[0.6666666666666666,\"#ed7953\"],[0.7777777777777778,\"#fb9f3a\"],[0.8888888888888888,\"#fdca26\"],[1.0,\"#f0f921\"]]}],\"contourcarpet\":[{\"type\":\"contourcarpet\",\"colorbar\":{\"outlinewidth\":0,\"ticks\":\"\"}}],\"contour\":[{\"type\":\"contour\",\"colorbar\":{\"outlinewidth\":0,\"ticks\":\"\"},\"colorscale\":[[0.0,\"#0d0887\"],[0.1111111111111111,\"#46039f\"],[0.2222222222222222,\"#7201a8\"],[0.3333333333333333,\"#9c179e\"],[0.4444444444444444,\"#bd3786\"],[0.5555555555555556,\"#d8576b\"],[0.6666666666666666,\"#ed7953\"],[0.7777777777777778,\"#fb9f3a\"],[0.8888888888888888,\"#fdca26\"],[1.0,\"#f0f921\"]]}],\"surface\":[{\"type\":\"surface\",\"colorbar\":{\"outlinewidth\":0,\"ticks\":\"\"},\"colorscale\":[[0.0,\"#0d0887\"],[0.1111111111111111,\"#46039f\"],[0.2222222222222222,\"#7201a8\"],[0.3333333333333333,\"#9c179e\"],[0.4444444444444444,\"#bd3786\"],[0.5555555555555556,\"#d8576b\"],[0.6666666666666666,\"#ed7953\"],[0.7777777777777778,\"#fb9f3a\"],[0.8888888888888888,\"#fdca26\"],[1.0,\"#f0f921\"]]}],\"mesh3d\":[{\"type\":\"mesh3d\",\"colorbar\":{\"outlinewidth\":0,\"ticks\":\"\"}}],\"scatter\":[{\"fillpattern\":{\"fillmode\":\"overlay\",\"size\":10,\"solidity\":0.2},\"type\":\"scatter\"}],\"parcoords\":[{\"type\":\"parcoords\",\"line\":{\"colorbar\":{\"outlinewidth\":0,\"ticks\":\"\"}}}],\"scatterpolargl\":[{\"type\":\"scatterpolargl\",\"marker\":{\"colorbar\":{\"outlinewidth\":0,\"ticks\":\"\"}}}],\"bar\":[{\"error_x\":{\"color\":\"#2a3f5f\"},\"error_y\":{\"color\":\"#2a3f5f\"},\"marker\":{\"line\":{\"color\":\"#E5ECF6\",\"width\":0.5},\"pattern\":{\"fillmode\":\"overlay\",\"size\":10,\"solidity\":0.2}},\"type\":\"bar\"}],\"scattergeo\":[{\"type\":\"scattergeo\",\"marker\":{\"colorbar\":{\"outlinewidth\":0,\"ticks\":\"\"}}}],\"scatterpolar\":[{\"type\":\"scatterpolar\",\"marker\":{\"colorbar\":{\"outlinewidth\":0,\"ticks\":\"\"}}}],\"histogram\":[{\"marker\":{\"pattern\":{\"fillmode\":\"overlay\",\"size\":10,\"solidity\":0.2}},\"type\":\"histogram\"}],\"scattergl\":[{\"type\":\"scattergl\",\"marker\":{\"colorbar\":{\"outlinewidth\":0,\"ticks\":\"\"}}}],\"scatter3d\":[{\"type\":\"scatter3d\",\"line\":{\"colorbar\":{\"outlinewidth\":0,\"ticks\":\"\"}},\"marker\":{\"colorbar\":{\"outlinewidth\":0,\"ticks\":\"\"}}}],\"scattermapbox\":[{\"type\":\"scattermapbox\",\"marker\":{\"colorbar\":{\"outlinewidth\":0,\"ticks\":\"\"}}}],\"scatterternary\":[{\"type\":\"scatterternary\",\"marker\":{\"colorbar\":{\"outlinewidth\":0,\"ticks\":\"\"}}}],\"scattercarpet\":[{\"type\":\"scattercarpet\",\"marker\":{\"colorbar\":{\"outlinewidth\":0,\"ticks\":\"\"}}}],\"carpet\":[{\"aaxis\":{\"endlinecolor\":\"#2a3f5f\",\"gridcolor\":\"white\",\"linecolor\":\"white\",\"minorgridcolor\":\"white\",\"startlinecolor\":\"#2a3f5f\"},\"baxis\":{\"endlinecolor\":\"#2a3f5f\",\"gridcolor\":\"white\",\"linecolor\":\"white\",\"minorgridcolor\":\"white\",\"startlinecolor\":\"#2a3f5f\"},\"type\":\"carpet\"}],\"table\":[{\"cells\":{\"fill\":{\"color\":\"#EBF0F8\"},\"line\":{\"color\":\"white\"}},\"header\":{\"fill\":{\"color\":\"#C8D4E3\"},\"line\":{\"color\":\"white\"}},\"type\":\"table\"}],\"barpolar\":[{\"marker\":{\"line\":{\"color\":\"#E5ECF6\",\"width\":0.5},\"pattern\":{\"fillmode\":\"overlay\",\"size\":10,\"solidity\":0.2}},\"type\":\"barpolar\"}],\"pie\":[{\"automargin\":true,\"type\":\"pie\"}]},\"layout\":{\"autotypenumbers\":\"strict\",\"colorway\":[\"#636efa\",\"#EF553B\",\"#00cc96\",\"#ab63fa\",\"#FFA15A\",\"#19d3f3\",\"#FF6692\",\"#B6E880\",\"#FF97FF\",\"#FECB52\"],\"font\":{\"color\":\"#2a3f5f\"},\"hovermode\":\"closest\",\"hoverlabel\":{\"align\":\"left\"},\"paper_bgcolor\":\"white\",\"plot_bgcolor\":\"#E5ECF6\",\"polar\":{\"bgcolor\":\"#E5ECF6\",\"angularaxis\":{\"gridcolor\":\"white\",\"linecolor\":\"white\",\"ticks\":\"\"},\"radialaxis\":{\"gridcolor\":\"white\",\"linecolor\":\"white\",\"ticks\":\"\"}},\"ternary\":{\"bgcolor\":\"#E5ECF6\",\"aaxis\":{\"gridcolor\":\"white\",\"linecolor\":\"white\",\"ticks\":\"\"},\"baxis\":{\"gridcolor\":\"white\",\"linecolor\":\"white\",\"ticks\":\"\"},\"caxis\":{\"gridcolor\":\"white\",\"linecolor\":\"white\",\"ticks\":\"\"}},\"coloraxis\":{\"colorbar\":{\"outlinewidth\":0,\"ticks\":\"\"}},\"colorscale\":{\"sequential\":[[0.0,\"#0d0887\"],[0.1111111111111111,\"#46039f\"],[0.2222222222222222,\"#7201a8\"],[0.3333333333333333,\"#9c179e\"],[0.4444444444444444,\"#bd3786\"],[0.5555555555555556,\"#d8576b\"],[0.6666666666666666,\"#ed7953\"],[0.7777777777777778,\"#fb9f3a\"],[0.8888888888888888,\"#fdca26\"],[1.0,\"#f0f921\"]],\"sequentialminus\":[[0.0,\"#0d0887\"],[0.1111111111111111,\"#46039f\"],[0.2222222222222222,\"#7201a8\"],[0.3333333333333333,\"#9c179e\"],[0.4444444444444444,\"#bd3786\"],[0.5555555555555556,\"#d8576b\"],[0.6666666666666666,\"#ed7953\"],[0.7777777777777778,\"#fb9f3a\"],[0.8888888888888888,\"#fdca26\"],[1.0,\"#f0f921\"]],\"diverging\":[[0,\"#8e0152\"],[0.1,\"#c51b7d\"],[0.2,\"#de77ae\"],[0.3,\"#f1b6da\"],[0.4,\"#fde0ef\"],[0.5,\"#f7f7f7\"],[0.6,\"#e6f5d0\"],[0.7,\"#b8e186\"],[0.8,\"#7fbc41\"],[0.9,\"#4d9221\"],[1,\"#276419\"]]},\"xaxis\":{\"gridcolor\":\"white\",\"linecolor\":\"white\",\"ticks\":\"\",\"title\":{\"standoff\":15},\"zerolinecolor\":\"white\",\"automargin\":true,\"zerolinewidth\":2},\"yaxis\":{\"gridcolor\":\"white\",\"linecolor\":\"white\",\"ticks\":\"\",\"title\":{\"standoff\":15},\"zerolinecolor\":\"white\",\"automargin\":true,\"zerolinewidth\":2},\"scene\":{\"xaxis\":{\"backgroundcolor\":\"#E5ECF6\",\"gridcolor\":\"white\",\"linecolor\":\"white\",\"showbackground\":true,\"ticks\":\"\",\"zerolinecolor\":\"white\",\"gridwidth\":2},\"yaxis\":{\"backgroundcolor\":\"#E5ECF6\",\"gridcolor\":\"white\",\"linecolor\":\"white\",\"showbackground\":true,\"ticks\":\"\",\"zerolinecolor\":\"white\",\"gridwidth\":2},\"zaxis\":{\"backgroundcolor\":\"#E5ECF6\",\"gridcolor\":\"white\",\"linecolor\":\"white\",\"showbackground\":true,\"ticks\":\"\",\"zerolinecolor\":\"white\",\"gridwidth\":2}},\"shapedefaults\":{\"line\":{\"color\":\"#2a3f5f\"}},\"annotationdefaults\":{\"arrowcolor\":\"#2a3f5f\",\"arrowhead\":0,\"arrowwidth\":1},\"geo\":{\"bgcolor\":\"white\",\"landcolor\":\"#E5ECF6\",\"subunitcolor\":\"white\",\"showland\":true,\"showlakes\":true,\"lakecolor\":\"white\"},\"title\":{\"x\":0.05},\"mapbox\":{\"style\":\"light\"}}},\"xaxis\":{\"anchor\":\"y\",\"domain\":[0.0,1.0],\"title\":{\"text\":\"Column\"}},\"yaxis\":{\"anchor\":\"x\",\"domain\":[0.0,1.0],\"title\":{\"text\":\"Proportion\"}},\"legend\":{\"title\":{\"text\":\"Present/Missing\"},\"tracegroupgap\":0},\"margin\":{\"t\":60},\"barmode\":\"stack\",\"height\":600,\"width\":1200},                        {\"responsive\": true}                    ).then(function(){\n",
       "                            \n",
       "var gd = document.getElementById('21e56124-193b-4826-bf96-a2b5b1bb2a17');\n",
       "var x = new MutationObserver(function (mutations, observer) {{\n",
       "        var display = window.getComputedStyle(gd).display;\n",
       "        if (!display || display === 'none') {{\n",
       "            console.log([gd, 'removed!']);\n",
       "            Plotly.purge(gd);\n",
       "            observer.disconnect();\n",
       "        }}\n",
       "}});\n",
       "\n",
       "// Listen for the removal of the full notebook cells\n",
       "var notebookContainer = gd.closest('#notebook-container');\n",
       "if (notebookContainer) {{\n",
       "    x.observe(notebookContainer, {childList: true});\n",
       "}}\n",
       "\n",
       "// Listen for the clearing of the current output cell\n",
       "var outputEl = gd.closest('.output');\n",
       "if (outputEl) {{\n",
       "    x.observe(outputEl, {childList: true});\n",
       "}}\n",
       "\n",
       "                        })                };                });            </script>        </div>"
      ]
     },
     "metadata": {},
     "output_type": "display_data"
    }
   ],
   "source": [
    "plot_data = (\n",
    "    app_stats\n",
    "    .reset_index()\n",
    "    .rename_columns({'index': 'column_name',\n",
    "                     'count': 'present_count'})\n",
    "    .select_columns(['column_name', 'present_count'])\n",
    "    .assign(missing_count=lambda x: app.shape[0] - x.present_count,\n",
    "            Missing=lambda x: x.missing_count / app.shape[0],\n",
    "            Present=lambda x: x.present_count / app.shape[0])\n",
    "    .select_columns(['column_name', 'Present', 'Missing'])\n",
    "    .melt(id_vars='column_name')\n",
    ")\n",
    "\n",
    "px.bar(\n",
    "    plot_data, \n",
    "    x='column_name', \n",
    "    y='value',\n",
    "    color='variable', \n",
    "    barmode='stack',\n",
    "    labels={\n",
    "        'variable': 'Present/Missing',\n",
    "        'value': 'Proportion',\n",
    "        'column_name': 'Column'},\n",
    "    width=1200,\n",
    "    height=600\n",
    ")"
   ]
  },
  {
   "cell_type": "markdown",
   "id": "b61d0465-2f40-4452-b3cc-354c77627cb4",
   "metadata": {},
   "source": [
    "Looks like the majority of the columns that have missing values have to do with features related to a property."
   ]
  },
  {
   "cell_type": "code",
   "execution_count": null,
   "id": "c77ff593-11b3-4976-bca2-d20c7d824cc1",
   "metadata": {},
   "outputs": [],
   "source": []
  }
 ],
 "metadata": {
  "kernelspec": {
   "display_name": "Python 3 (ipykernel)",
   "language": "python",
   "name": "python3"
  },
  "language_info": {
   "codemirror_mode": {
    "name": "ipython",
    "version": 3
   },
   "file_extension": ".py",
   "mimetype": "text/x-python",
   "name": "python",
   "nbconvert_exporter": "python",
   "pygments_lexer": "ipython3",
   "version": "3.10.6"
  }
 },
 "nbformat": 4,
 "nbformat_minor": 5
}
